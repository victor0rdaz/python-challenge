{
 "cells": [
  {
   "cell_type": "code",
   "execution_count": 41,
   "id": "7e9a297d-16d7-4fe2-be8f-55e53567b35d",
   "metadata": {},
   "outputs": [],
   "source": [
    "import os\n",
    "import csv"
   ]
  },
  {
   "cell_type": "code",
   "execution_count": 51,
   "id": "51d50579-e697-4361-be90-d7741cbf39ca",
   "metadata": {},
   "outputs": [
    {
     "name": "stdout",
     "output_type": "stream",
     "text": [
      "Total number of months: 86\n",
      "Total profit/loss: $38382578\n",
      "Total change: -196785\n",
      "Average change: $-2315.12\n",
      "Greatest Increase in Profits: Feb-2012 ($1926159)\n",
      "Greatest Decrease in Profits: Sep-2013 ($-2196167)\n",
      "\n",
      "Financial Analysis\n",
      "----------------------------\n",
      "Total Months: 86\n",
      "Total: $38382578\n",
      "Average Change: $-2315.12\n",
      "Greatest Increase in Profits: Feb-2012 ($1926159)\n",
      "Greatest Decrease in Profits: Sep-2013 ($-2196167)\n",
      "\n"
     ]
    }
   ],
   "source": [
    " budget_csv = r\"/Users/victorordaz/desktop/python-challenge/PyBank/budget_data.csv\"\n",
    "\n",
    "with open(budget_csv, 'r') as csvfile:\n",
    "    reader = csv.reader(csvfile, delimiter = \",\")\n",
    "    next(reader)\n",
    "\n",
    "    count = 0 \n",
    "    total = 0\n",
    "    prev_revenue = 0 \n",
    "    revenue_change_list = []\n",
    "    month_of_change = []\n",
    "    total_change = 0 \n",
    "    \n",
    "    for row in reader:\n",
    "        count = count + 1\n",
    "        current_revenue = int(row[1])\n",
    "        total = total + current_revenue\n",
    "        \n",
    "        if prev_revenue != 0 :\n",
    "            revenue_change = current_revenue - prev_revenue\n",
    "            revenue_change_list.append(revenue_change)\n",
    "            month_of_change.append(row[0])\n",
    "            total_change = total_change + revenue_change\n",
    "            \n",
    "        prev_revenue = current_revenue\n",
    "    \n",
    "    avg_change = total_change / (count - 1)\n",
    "\n",
    "    \n",
    "    print(f'Total number of months: {count}')\n",
    "    print(f'Total profit/loss: ${total}')\n",
    "    print(f'Total change: {total_change}')\n",
    "    print(f'Average change: ${avg_change:.2f}')\n",
    "    \n",
    "    max_increase = max(revenue_change_list)\n",
    "    max_increase_month = month_of_change[revenue_change_list.index(max_increase)]\n",
    "  \n",
    "    print(f\"Greatest Increase in Profits: {max_increase_month} (${max_increase})\")\n",
    "  \n",
    "    max_decrease = min(revenue_change_list)\n",
    "    max_decrease_month = month_of_change[revenue_change_list.index(max_decrease)]\n",
    "\n",
    "    print(f\"Greatest Decrease in Profits: {max_decrease_month} (${max_decrease})\") \n",
    "\n",
    "output = (\n",
    "    \n",
    "    f\"\\nFinancial Analysis\\n\"\n",
    "    f\"----------------------------\\n\"\n",
    "    f\"Total Months: {count}\\n\"\n",
    "    f\"Total: ${total}\\n\"\n",
    "    f\"Average Change: ${avg_change:.2f}\\n\"\n",
    "    f\"Greatest Increase in Profits: {max_increase_month} (${max_increase})\\n\"\n",
    "    f\"Greatest Decrease in Profits: {max_decrease_month} (${max_decrease})\\n\")\n",
    "\n",
    "print(output)\n",
    "\n",
    "output_file = \"/Users/victorordaz/Desktop/python-challenge/PyBank/Results.txt\"\n",
    "with open(output_file, \"w\") as f:\n",
    "    f.write(output)"
   ]
  }
 ],
 "metadata": {
  "kernelspec": {
   "display_name": "Python 3 (ipykernel)",
   "language": "python",
   "name": "python3"
  },
  "language_info": {
   "codemirror_mode": {
    "name": "ipython",
    "version": 3
   },
   "file_extension": ".py",
   "mimetype": "text/x-python",
   "name": "python",
   "nbconvert_exporter": "python",
   "pygments_lexer": "ipython3",
   "version": "3.11.5"
  }
 },
 "nbformat": 4,
 "nbformat_minor": 5
}
